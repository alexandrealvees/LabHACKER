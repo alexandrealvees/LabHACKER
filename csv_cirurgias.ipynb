{
  "nbformat": 4,
  "nbformat_minor": 0,
  "metadata": {
    "kernelspec": {
      "display_name": "Python 3",
      "language": "python",
      "name": "python3"
    },
    "language_info": {
      "codemirror_mode": {
        "name": "ipython",
        "version": 3
      },
      "file_extension": ".py",
      "mimetype": "text/x-python",
      "name": "python",
      "nbconvert_exporter": "python",
      "pygments_lexer": "ipython3",
      "version": "3.7.1"
    },
    "colab": {
      "name": "csv_cirurgias.ipynb",
      "provenance": [],
      "include_colab_link": true
    }
  },
  "cells": [
    {
      "cell_type": "markdown",
      "metadata": {
        "id": "view-in-github",
        "colab_type": "text"
      },
      "source": [
        "<a href=\"https://colab.research.google.com/github/alexandrealvees/LabHACKER/blob/master/csv_cirurgias.ipynb\" target=\"_parent\"><img src=\"https://colab.research.google.com/assets/colab-badge.svg\" alt=\"Open In Colab\"/></a>"
      ]
    },
    {
      "cell_type": "code",
      "metadata": {
        "id": "QFRv1Kc08slD",
        "colab_type": "code",
        "colab": {
          "base_uri": "https://localhost:8080/",
          "height": 35
        },
        "outputId": "58dcdc1c-c85f-4d4c-f6b2-83b78f6bdc47"
      },
      "source": [
        "from google.colab import drive\n",
        "drive.mount('/content/drive')"
      ],
      "execution_count": 9,
      "outputs": [
        {
          "output_type": "stream",
          "text": [
            "Drive already mounted at /content/drive; to attempt to forcibly remount, call drive.mount(\"/content/drive\", force_remount=True).\n"
          ],
          "name": "stdout"
        }
      ]
    },
    {
      "cell_type": "code",
      "metadata": {
        "id": "OCGtWQKU8kZR",
        "colab_type": "code",
        "colab": {}
      },
      "source": [
        "# Importando as bibliotecas\n",
        "import pandas as pd\n",
        "\n",
        "# Informar ao matplotlib sobre os gráficos inline\n",
        "%matplotlib inline"
      ],
      "execution_count": 0,
      "outputs": []
    },
    {
      "cell_type": "code",
      "metadata": {
        "id": "Yhi4hEzv8kZv",
        "colab_type": "code",
        "colab": {
          "base_uri": "https://localhost:8080/",
          "height": 213
        },
        "outputId": "4d9581a2-6e7e-46ac-8a91-6772aa48b1e5"
      },
      "source": [
        "# Vamos importar apenas algumas colunas do arquivo\n",
        "# 3 - Hospistal, 6 - Município, 7 - Complexidade, 8 - Carater de atendimento\n",
        "# 12 - Sub grupo de procedimento, 14 - Procedimento\n",
        "\n",
        "# Carregar o arquivo CSV\n",
        "df = pd.read_csv('/content/drive/My Drive/ArquivosPython/sih-janeiro-2017-cirurgias-eletiva-e-emergencia.csv', sep=';', encoding='cp1252', \n",
        "                 usecols=[3, 6, 7, 8, 12, 14])\n",
        "\n",
        "# Trocar os nomes das colunas\n",
        "df.columns = ['Hospital', 'Municipio', 'Complexidade', 'Carater atendimento', 'Sub grupo procedimento', 'Procedimento']\n",
        "\n",
        "# Exibir as primeiras linhas do DataFrame\n",
        "df.head(3)"
      ],
      "execution_count": 11,
      "outputs": [
        {
          "output_type": "execute_result",
          "data": {
            "text/html": [
              "<div>\n",
              "<style scoped>\n",
              "    .dataframe tbody tr th:only-of-type {\n",
              "        vertical-align: middle;\n",
              "    }\n",
              "\n",
              "    .dataframe tbody tr th {\n",
              "        vertical-align: top;\n",
              "    }\n",
              "\n",
              "    .dataframe thead th {\n",
              "        text-align: right;\n",
              "    }\n",
              "</style>\n",
              "<table border=\"1\" class=\"dataframe\">\n",
              "  <thead>\n",
              "    <tr style=\"text-align: right;\">\n",
              "      <th></th>\n",
              "      <th>Hospital</th>\n",
              "      <th>Municipio</th>\n",
              "      <th>Complexidade</th>\n",
              "      <th>Carater atendimento</th>\n",
              "      <th>Sub grupo procedimento</th>\n",
              "      <th>Procedimento</th>\n",
              "    </tr>\n",
              "  </thead>\n",
              "  <tbody>\n",
              "    <tr>\n",
              "      <th>0</th>\n",
              "      <td>6876617 HOSPITAL DA CRIANCA DE BRASILIA JOSE A...</td>\n",
              "      <td>BRASILIA, DF, BR</td>\n",
              "      <td>Média complexidade</td>\n",
              "      <td>Eletivo</td>\n",
              "      <td>Sub Grupo: 15 - Outras cirurgias</td>\n",
              "      <td>TRATAMENTO C/ CIRURGIAS MULTIPLAS</td>\n",
              "    </tr>\n",
              "    <tr>\n",
              "      <th>1</th>\n",
              "      <td>0010456 HBDF HOSPITAL DE BASE DO DISTRITO FEDERAL</td>\n",
              "      <td>BRASILIA, DF, BR</td>\n",
              "      <td>Média complexidade</td>\n",
              "      <td>Urgência</td>\n",
              "      <td>Sub Grupo: 03 - Cirurgia do sistema nervoso ce...</td>\n",
              "      <td>DERIVACAO VENTRICULAR EXTERNAR-SUBGALEAL EXTERNA</td>\n",
              "    </tr>\n",
              "    <tr>\n",
              "      <th>2</th>\n",
              "      <td>0010456 HBDF HOSPITAL DE BASE DO DISTRITO FEDERAL</td>\n",
              "      <td>BRASILIA, DF, BR</td>\n",
              "      <td>Média complexidade</td>\n",
              "      <td>Urgência</td>\n",
              "      <td>Sub Grupo: 15 - Outras cirurgias</td>\n",
              "      <td>TRATAMENTO C/ CIRURGIAS MULTIPLAS</td>\n",
              "    </tr>\n",
              "  </tbody>\n",
              "</table>\n",
              "</div>"
            ],
            "text/plain": [
              "                                            Hospital  ...                                      Procedimento\n",
              "0  6876617 HOSPITAL DA CRIANCA DE BRASILIA JOSE A...  ...                 TRATAMENTO C/ CIRURGIAS MULTIPLAS\n",
              "1  0010456 HBDF HOSPITAL DE BASE DO DISTRITO FEDERAL  ...  DERIVACAO VENTRICULAR EXTERNAR-SUBGALEAL EXTERNA\n",
              "2  0010456 HBDF HOSPITAL DE BASE DO DISTRITO FEDERAL  ...                 TRATAMENTO C/ CIRURGIAS MULTIPLAS\n",
              "\n",
              "[3 rows x 6 columns]"
            ]
          },
          "metadata": {
            "tags": []
          },
          "execution_count": 11
        }
      ]
    },
    {
      "cell_type": "code",
      "metadata": {
        "id": "cKbBdCOR8kaH",
        "colab_type": "code",
        "colab": {
          "base_uri": "https://localhost:8080/",
          "height": 210
        },
        "outputId": "5047785e-08be-4f90-c05b-1cbed8d35556"
      },
      "source": [
        "# Descrever as colunas numéricas\n",
        "df.describe()"
      ],
      "execution_count": 12,
      "outputs": [
        {
          "output_type": "execute_result",
          "data": {
            "text/html": [
              "<div>\n",
              "<style scoped>\n",
              "    .dataframe tbody tr th:only-of-type {\n",
              "        vertical-align: middle;\n",
              "    }\n",
              "\n",
              "    .dataframe tbody tr th {\n",
              "        vertical-align: top;\n",
              "    }\n",
              "\n",
              "    .dataframe thead th {\n",
              "        text-align: right;\n",
              "    }\n",
              "</style>\n",
              "<table border=\"1\" class=\"dataframe\">\n",
              "  <thead>\n",
              "    <tr style=\"text-align: right;\">\n",
              "      <th></th>\n",
              "      <th>Hospital</th>\n",
              "      <th>Municipio</th>\n",
              "      <th>Complexidade</th>\n",
              "      <th>Carater atendimento</th>\n",
              "      <th>Sub grupo procedimento</th>\n",
              "      <th>Procedimento</th>\n",
              "    </tr>\n",
              "  </thead>\n",
              "  <tbody>\n",
              "    <tr>\n",
              "      <th>count</th>\n",
              "      <td>4862</td>\n",
              "      <td>4862</td>\n",
              "      <td>4862</td>\n",
              "      <td>4862</td>\n",
              "      <td>4862</td>\n",
              "      <td>4862</td>\n",
              "    </tr>\n",
              "    <tr>\n",
              "      <th>unique</th>\n",
              "      <td>16</td>\n",
              "      <td>11</td>\n",
              "      <td>2</td>\n",
              "      <td>4</td>\n",
              "      <td>16</td>\n",
              "      <td>495</td>\n",
              "    </tr>\n",
              "    <tr>\n",
              "      <th>top</th>\n",
              "      <td>0010456 HBDF HOSPITAL DE BASE DO DISTRITO FEDERAL</td>\n",
              "      <td>BRASILIA, DF, BR</td>\n",
              "      <td>Média complexidade</td>\n",
              "      <td>Urgência</td>\n",
              "      <td>Sub Grupo: 11 - Cirurgia obstétrica</td>\n",
              "      <td>PARTO CESARIANO</td>\n",
              "    </tr>\n",
              "    <tr>\n",
              "      <th>freq</th>\n",
              "      <td>735</td>\n",
              "      <td>1923</td>\n",
              "      <td>4353</td>\n",
              "      <td>3794</td>\n",
              "      <td>1539</td>\n",
              "      <td>1060</td>\n",
              "    </tr>\n",
              "  </tbody>\n",
              "</table>\n",
              "</div>"
            ],
            "text/plain": [
              "                                                 Hospital  ...     Procedimento\n",
              "count                                                4862  ...             4862\n",
              "unique                                                 16  ...              495\n",
              "top     0010456 HBDF HOSPITAL DE BASE DO DISTRITO FEDERAL  ...  PARTO CESARIANO\n",
              "freq                                                  735  ...             1060\n",
              "\n",
              "[4 rows x 6 columns]"
            ]
          },
          "metadata": {
            "tags": []
          },
          "execution_count": 12
        }
      ]
    },
    {
      "cell_type": "code",
      "metadata": {
        "id": "Axd7aPda8kaZ",
        "colab_type": "code",
        "colab": {
          "base_uri": "https://localhost:8080/",
          "height": 219
        },
        "outputId": "ec5f948d-7497-4f0a-9ec4-7ecf52ea536c"
      },
      "source": [
        "# Listar os hospitais\n",
        "df['Hospital'].unique()"
      ],
      "execution_count": 13,
      "outputs": [
        {
          "output_type": "execute_result",
          "data": {
            "text/plain": [
              "array(['6876617 HOSPITAL DA CRIANCA DE BRASILIA JOSE ALENCAR HCB',\n",
              "       '0010456 HBDF HOSPITAL DE BASE DO DISTRITO FEDERAL',\n",
              "       '0010499 HRT HOSPITAL REGIONAL DE TAGUATINGA', '0010545 HRBZ',\n",
              "       '0010480 HOSPITAL REGIONAL DE CEILANDIA',\n",
              "       '3276678 INSTITUTO DE CARDIOLOGIA DO DISTRITO FEDERAL',\n",
              "       '0010472 HRG', '0010510 HOSPITAL UNIVERSITARIO DE BRASILIA',\n",
              "       '0010529 HRPL',\n",
              "       '0010537 HOSPITAL MATERNO INFANTIL DE BRASILIA HMIB',\n",
              "       '3055450 CBV CENTRO BRASILEIRO DA VISAO',\n",
              "       '2672197 HRSAM HOSPITAL REGIONAL DE SAMAMBAIA', '0010502 HRS',\n",
              "       '5717515 HRSM', '2645157 HRPA', '0010464 HRAN'], dtype=object)"
            ]
          },
          "metadata": {
            "tags": []
          },
          "execution_count": 13
        }
      ]
    },
    {
      "cell_type": "code",
      "metadata": {
        "id": "X_oUuomk8kao",
        "colab_type": "code",
        "colab": {
          "base_uri": "https://localhost:8080/",
          "height": 329
        },
        "outputId": "d6a37ae8-56be-4b8b-8479-573e377fb584"
      },
      "source": [
        "# Quantas cirurgias foram realizadas em cada hospital\n",
        "df['Hospital'].value_counts()"
      ],
      "execution_count": 14,
      "outputs": [
        {
          "output_type": "execute_result",
          "data": {
            "text/plain": [
              "0010456 HBDF HOSPITAL DE BASE DO DISTRITO FEDERAL           735\n",
              "0010472 HRG                                                 555\n",
              "0010480 HOSPITAL REGIONAL DE CEILANDIA                      461\n",
              "0010464 HRAN                                                432\n",
              "0010499 HRT HOSPITAL REGIONAL DE TAGUATINGA                 373\n",
              "0010510 HOSPITAL UNIVERSITARIO DE BRASILIA                  350\n",
              "2645157 HRPA                                                327\n",
              "0010537 HOSPITAL MATERNO INFANTIL DE BRASILIA HMIB          298\n",
              "5717515 HRSM                                                281\n",
              "0010529 HRPL                                                256\n",
              "0010502 HRS                                                 225\n",
              "2672197 HRSAM HOSPITAL REGIONAL DE SAMAMBAIA                195\n",
              "3276678 INSTITUTO DE CARDIOLOGIA DO DISTRITO FEDERAL        191\n",
              "0010545 HRBZ                                                 75\n",
              "6876617 HOSPITAL DA CRIANCA DE BRASILIA JOSE ALENCAR HCB     74\n",
              "3055450 CBV CENTRO BRASILEIRO DA VISAO                       34\n",
              "Name: Hospital, dtype: int64"
            ]
          },
          "metadata": {
            "tags": []
          },
          "execution_count": 14
        }
      ]
    },
    {
      "cell_type": "code",
      "metadata": {
        "id": "rCyUhqJC8ka7",
        "colab_type": "code",
        "colab": {
          "base_uri": "https://localhost:8080/",
          "height": 329
        },
        "outputId": "65557334-bc5e-4774-e3be-afa39890e543"
      },
      "source": [
        "# Quantas cirurgias por Sub grupo procedimento\n",
        "df['Sub grupo procedimento'].value_counts()"
      ],
      "execution_count": 15,
      "outputs": [
        {
          "output_type": "execute_result",
          "data": {
            "text/plain": [
              "Sub Grupo: 11 - Cirurgia obstétrica                                                   1539\n",
              "Sub Grupo: 07 - Cirurgia do aparelho digestivo, orgãos anexos e parede abdominal       893\n",
              "Sub Grupo: 08 - Cirurgia do sistema osteomuscular                                      651\n",
              "Sub Grupo: 09 - Cirurgia do aparelho geniturinário                                     474\n",
              "Sub Grupo: 06 - Cirurgia do aparelho circulatório                                      299\n",
              "Sub Grupo: 15 - Outras cirurgias                                                       223\n",
              "Sub Grupo: 04 - Cirurgia das vias aéreas superiores, da cabeça e do pescoço            145\n",
              "Sub Grupo: 03 - Cirurgia do sistema nervoso central e periférico                       141\n",
              "Sub Grupo: 16 - Cirurgia em oncologia                                                  110\n",
              "Sub Grupo: 05 - Cirurgia do aparelho da visão                                           98\n",
              "Sub Grupo: 12 - Cirurgia torácica                                                       92\n",
              "Sub Grupo: 01 - Pequenas cirurgias e cirurgias de pele, tecido subcutâneo e mucosa      77\n",
              "Sub Grupo: 10 - Cirurgia de mama                                                        68\n",
              "Sub Grupo: 13 - Cirurgia reparadora                                                     40\n",
              "Sub Grupo: 14 - Cirurgia oro-facial                                                      7\n",
              "Sub Grupo: 02 - Cirurgia de glândulas endócrinas                                         5\n",
              "Name: Sub grupo procedimento, dtype: int64"
            ]
          },
          "metadata": {
            "tags": []
          },
          "execution_count": 15
        }
      ]
    },
    {
      "cell_type": "code",
      "metadata": {
        "id": "IIELQohv8kbL",
        "colab_type": "code",
        "colab": {
          "base_uri": "https://localhost:8080/",
          "height": 679
        },
        "outputId": "88081925-a2ed-4ecf-a7f4-a1898c2bfed3"
      },
      "source": [
        "# Plotar o grafico por sub grupo procedimento\n",
        "colors = [\"#20257c\", \"#424ad1\", \"#6a8ee8\", \"#66bbe2\", \"#66dee2\", \"#6ce2cb\", \"#6ad187\", \"#3b7f5b\"]\n",
        "teste = df['Sub grupo procedimento'].value_counts().plot.bar(color=colors)\n"
      ],
      "execution_count": 16,
      "outputs": [
        {
          "output_type": "display_data",
          "data": {
            "image/png": "[encoded data removed]",
            "text/plain": [
              "<Figure size 432x288 with 1 Axes>"
            ]
          },
          "metadata": {
            "tags": [],
            "needs_background": "light"
          }
        }
      ]
    },
    {
      "cell_type": "code",
      "metadata": {
        "id": "RqbEdUbJ8kbV",
        "colab_type": "code",
        "colab": {
          "base_uri": "https://localhost:8080/",
          "height": 164
        },
        "outputId": "ee35d95a-cd49-4091-a561-288721d7b73c"
      },
      "source": [
        "# Vamos criar sub conjunto dos dados originais\n",
        "df_hospbase = df[df['Hospital'] == '0010456 HBDF HOSPITAL DE BASE DO DISTRITO FEDERAL']\n",
        "\n",
        "# Linhas iniciais\n",
        "df_hospbase.head(2)"
      ],
      "execution_count": 17,
      "outputs": [
        {
          "output_type": "execute_result",
          "data": {
            "text/html": [
              "<div>\n",
              "<style scoped>\n",
              "    .dataframe tbody tr th:only-of-type {\n",
              "        vertical-align: middle;\n",
              "    }\n",
              "\n",
              "    .dataframe tbody tr th {\n",
              "        vertical-align: top;\n",
              "    }\n",
              "\n",
              "    .dataframe thead th {\n",
              "        text-align: right;\n",
              "    }\n",
              "</style>\n",
              "<table border=\"1\" class=\"dataframe\">\n",
              "  <thead>\n",
              "    <tr style=\"text-align: right;\">\n",
              "      <th></th>\n",
              "      <th>Hospital</th>\n",
              "      <th>Municipio</th>\n",
              "      <th>Complexidade</th>\n",
              "      <th>Carater atendimento</th>\n",
              "      <th>Sub grupo procedimento</th>\n",
              "      <th>Procedimento</th>\n",
              "    </tr>\n",
              "  </thead>\n",
              "  <tbody>\n",
              "    <tr>\n",
              "      <th>1</th>\n",
              "      <td>0010456 HBDF HOSPITAL DE BASE DO DISTRITO FEDERAL</td>\n",
              "      <td>BRASILIA, DF, BR</td>\n",
              "      <td>Média complexidade</td>\n",
              "      <td>Urgência</td>\n",
              "      <td>Sub Grupo: 03 - Cirurgia do sistema nervoso ce...</td>\n",
              "      <td>DERIVACAO VENTRICULAR EXTERNAR-SUBGALEAL EXTERNA</td>\n",
              "    </tr>\n",
              "    <tr>\n",
              "      <th>2</th>\n",
              "      <td>0010456 HBDF HOSPITAL DE BASE DO DISTRITO FEDERAL</td>\n",
              "      <td>BRASILIA, DF, BR</td>\n",
              "      <td>Média complexidade</td>\n",
              "      <td>Urgência</td>\n",
              "      <td>Sub Grupo: 15 - Outras cirurgias</td>\n",
              "      <td>TRATAMENTO C/ CIRURGIAS MULTIPLAS</td>\n",
              "    </tr>\n",
              "  </tbody>\n",
              "</table>\n",
              "</div>"
            ],
            "text/plain": [
              "                                            Hospital  ...                                      Procedimento\n",
              "1  0010456 HBDF HOSPITAL DE BASE DO DISTRITO FEDERAL  ...  DERIVACAO VENTRICULAR EXTERNAR-SUBGALEAL EXTERNA\n",
              "2  0010456 HBDF HOSPITAL DE BASE DO DISTRITO FEDERAL  ...                 TRATAMENTO C/ CIRURGIAS MULTIPLAS\n",
              "\n",
              "[2 rows x 6 columns]"
            ]
          },
          "metadata": {
            "tags": []
          },
          "execution_count": 17
        }
      ]
    },
    {
      "cell_type": "code",
      "metadata": {
        "id": "N7t4uY_l8kbe",
        "colab_type": "code",
        "colab": {
          "base_uri": "https://localhost:8080/",
          "height": 262
        },
        "outputId": "2344cfb8-539b-43a3-df33-3e8ff0b36e40"
      },
      "source": [
        "# Linhas finais do DataFrame\n",
        "df_hospbase.tail(4)"
      ],
      "execution_count": 18,
      "outputs": [
        {
          "output_type": "execute_result",
          "data": {
            "text/html": [
              "<div>\n",
              "<style scoped>\n",
              "    .dataframe tbody tr th:only-of-type {\n",
              "        vertical-align: middle;\n",
              "    }\n",
              "\n",
              "    .dataframe tbody tr th {\n",
              "        vertical-align: top;\n",
              "    }\n",
              "\n",
              "    .dataframe thead th {\n",
              "        text-align: right;\n",
              "    }\n",
              "</style>\n",
              "<table border=\"1\" class=\"dataframe\">\n",
              "  <thead>\n",
              "    <tr style=\"text-align: right;\">\n",
              "      <th></th>\n",
              "      <th>Hospital</th>\n",
              "      <th>Municipio</th>\n",
              "      <th>Complexidade</th>\n",
              "      <th>Carater atendimento</th>\n",
              "      <th>Sub grupo procedimento</th>\n",
              "      <th>Procedimento</th>\n",
              "    </tr>\n",
              "  </thead>\n",
              "  <tbody>\n",
              "    <tr>\n",
              "      <th>2370</th>\n",
              "      <td>0010456 HBDF HOSPITAL DE BASE DO DISTRITO FEDERAL</td>\n",
              "      <td>BRASILIA, DF, BR</td>\n",
              "      <td>Média complexidade</td>\n",
              "      <td>Eletivo</td>\n",
              "      <td>Sub Grupo: 03 - Cirurgia do sistema nervoso ce...</td>\n",
              "      <td>DERIVACAO VENTRICULAR PARA PERITONEO / ATRIO /...</td>\n",
              "    </tr>\n",
              "    <tr>\n",
              "      <th>2371</th>\n",
              "      <td>0010456 HBDF HOSPITAL DE BASE DO DISTRITO FEDERAL</td>\n",
              "      <td>BRASILIA, DF, BR</td>\n",
              "      <td>Alta complexidade</td>\n",
              "      <td>Eletivo</td>\n",
              "      <td>Sub Grupo: 16 - Cirurgia em oncologia</td>\n",
              "      <td>MASTECTOMIA RADICAL C/ LINFADENECTOMIA AXILAR ...</td>\n",
              "    </tr>\n",
              "    <tr>\n",
              "      <th>2372</th>\n",
              "      <td>0010456 HBDF HOSPITAL DE BASE DO DISTRITO FEDERAL</td>\n",
              "      <td>BRASILIA, DF, BR</td>\n",
              "      <td>Alta complexidade</td>\n",
              "      <td>Eletivo</td>\n",
              "      <td>Sub Grupo: 16 - Cirurgia em oncologia</td>\n",
              "      <td>SEGMENTECTOMIA/QUADRANTECTOMIA/SETORECTOMIA DE...</td>\n",
              "    </tr>\n",
              "    <tr>\n",
              "      <th>2373</th>\n",
              "      <td>0010456 HBDF HOSPITAL DE BASE DO DISTRITO FEDERAL</td>\n",
              "      <td>BRASILIA, DF, BR</td>\n",
              "      <td>Alta complexidade</td>\n",
              "      <td>Eletivo</td>\n",
              "      <td>Sub Grupo: 06 - Cirurgia do aparelho circulatório</td>\n",
              "      <td>ESTUDO ELETROFISIOLOGICO TERAPEUTICO II (ABLAC...</td>\n",
              "    </tr>\n",
              "  </tbody>\n",
              "</table>\n",
              "</div>"
            ],
            "text/plain": [
              "                                               Hospital  ...                                       Procedimento\n",
              "2370  0010456 HBDF HOSPITAL DE BASE DO DISTRITO FEDERAL  ...  DERIVACAO VENTRICULAR PARA PERITONEO / ATRIO /...\n",
              "2371  0010456 HBDF HOSPITAL DE BASE DO DISTRITO FEDERAL  ...  MASTECTOMIA RADICAL C/ LINFADENECTOMIA AXILAR ...\n",
              "2372  0010456 HBDF HOSPITAL DE BASE DO DISTRITO FEDERAL  ...  SEGMENTECTOMIA/QUADRANTECTOMIA/SETORECTOMIA DE...\n",
              "2373  0010456 HBDF HOSPITAL DE BASE DO DISTRITO FEDERAL  ...  ESTUDO ELETROFISIOLOGICO TERAPEUTICO II (ABLAC...\n",
              "\n",
              "[4 rows x 6 columns]"
            ]
          },
          "metadata": {
            "tags": []
          },
          "execution_count": 18
        }
      ]
    },
    {
      "cell_type": "code",
      "metadata": {
        "id": "wbgtyS6B8kbt",
        "colab_type": "code",
        "colab": {
          "base_uri": "https://localhost:8080/",
          "height": 293
        },
        "outputId": "7b465530-a1b8-48ed-ffd3-742860ab0e4b"
      },
      "source": [
        "# Listar linhas aleatórias do DataFrame\n",
        "df_hospbase.sample(5)"
      ],
      "execution_count": 19,
      "outputs": [
        {
          "output_type": "execute_result",
          "data": {
            "text/html": [
              "<div>\n",
              "<style scoped>\n",
              "    .dataframe tbody tr th:only-of-type {\n",
              "        vertical-align: middle;\n",
              "    }\n",
              "\n",
              "    .dataframe tbody tr th {\n",
              "        vertical-align: top;\n",
              "    }\n",
              "\n",
              "    .dataframe thead th {\n",
              "        text-align: right;\n",
              "    }\n",
              "</style>\n",
              "<table border=\"1\" class=\"dataframe\">\n",
              "  <thead>\n",
              "    <tr style=\"text-align: right;\">\n",
              "      <th></th>\n",
              "      <th>Hospital</th>\n",
              "      <th>Municipio</th>\n",
              "      <th>Complexidade</th>\n",
              "      <th>Carater atendimento</th>\n",
              "      <th>Sub grupo procedimento</th>\n",
              "      <th>Procedimento</th>\n",
              "    </tr>\n",
              "  </thead>\n",
              "  <tbody>\n",
              "    <tr>\n",
              "      <th>1739</th>\n",
              "      <td>0010456 HBDF HOSPITAL DE BASE DO DISTRITO FEDERAL</td>\n",
              "      <td>BRASILIA, DF, BR</td>\n",
              "      <td>Alta complexidade</td>\n",
              "      <td>Eletivo</td>\n",
              "      <td>Sub Grupo: 03 - Cirurgia do sistema nervoso ce...</td>\n",
              "      <td>EMBOLIZAÇÃO DE FISTULA ARTERIO-VENOSA DA CABEÇ...</td>\n",
              "    </tr>\n",
              "    <tr>\n",
              "      <th>853</th>\n",
              "      <td>0010456 HBDF HOSPITAL DE BASE DO DISTRITO FEDERAL</td>\n",
              "      <td>BRASILIA, DF, BR</td>\n",
              "      <td>Média complexidade</td>\n",
              "      <td>Eletivo</td>\n",
              "      <td>Sub Grupo: 07 - Cirurgia do aparelho digestivo...</td>\n",
              "      <td>COLOSTOMIA</td>\n",
              "    </tr>\n",
              "    <tr>\n",
              "      <th>45</th>\n",
              "      <td>0010456 HBDF HOSPITAL DE BASE DO DISTRITO FEDERAL</td>\n",
              "      <td>BRASILIA, DF, BR</td>\n",
              "      <td>Média complexidade</td>\n",
              "      <td>Urgência</td>\n",
              "      <td>Sub Grupo: 03 - Cirurgia do sistema nervoso ce...</td>\n",
              "      <td>TRATAMENTO CIRURGICO DE HEMATOMA SUBDURAL CRONICO</td>\n",
              "    </tr>\n",
              "    <tr>\n",
              "      <th>2030</th>\n",
              "      <td>0010456 HBDF HOSPITAL DE BASE DO DISTRITO FEDERAL</td>\n",
              "      <td>BRASILIA, DF, BR</td>\n",
              "      <td>Média complexidade</td>\n",
              "      <td>Eletivo</td>\n",
              "      <td>Sub Grupo: 08 - Cirurgia do sistema osteomuscular</td>\n",
              "      <td>TRATAMENTO CIRÚRGICO DE FRATURA DO TORNOZELO U...</td>\n",
              "    </tr>\n",
              "    <tr>\n",
              "      <th>1613</th>\n",
              "      <td>0010456 HBDF HOSPITAL DE BASE DO DISTRITO FEDERAL</td>\n",
              "      <td>BRASILIA, DF, BR</td>\n",
              "      <td>Média complexidade</td>\n",
              "      <td>Outros tipos lesões/envenenamentos por agentes...</td>\n",
              "      <td>Sub Grupo: 04 - Cirurgia das vias aéreas super...</td>\n",
              "      <td>REDUÇÃO DE FRATURA DA MANDÍBULA SEM OSTEOSSINT...</td>\n",
              "    </tr>\n",
              "  </tbody>\n",
              "</table>\n",
              "</div>"
            ],
            "text/plain": [
              "                                               Hospital  ...                                       Procedimento\n",
              "1739  0010456 HBDF HOSPITAL DE BASE DO DISTRITO FEDERAL  ...  EMBOLIZAÇÃO DE FISTULA ARTERIO-VENOSA DA CABEÇ...\n",
              "853   0010456 HBDF HOSPITAL DE BASE DO DISTRITO FEDERAL  ...                                         COLOSTOMIA\n",
              "45    0010456 HBDF HOSPITAL DE BASE DO DISTRITO FEDERAL  ...  TRATAMENTO CIRURGICO DE HEMATOMA SUBDURAL CRONICO\n",
              "2030  0010456 HBDF HOSPITAL DE BASE DO DISTRITO FEDERAL  ...  TRATAMENTO CIRÚRGICO DE FRATURA DO TORNOZELO U...\n",
              "1613  0010456 HBDF HOSPITAL DE BASE DO DISTRITO FEDERAL  ...  REDUÇÃO DE FRATURA DA MANDÍBULA SEM OSTEOSSINT...\n",
              "\n",
              "[5 rows x 6 columns]"
            ]
          },
          "metadata": {
            "tags": []
          },
          "execution_count": 19
        }
      ]
    },
    {
      "cell_type": "code",
      "metadata": {
        "id": "XO368W7F8kb6",
        "colab_type": "code",
        "colab": {
          "base_uri": "https://localhost:8080/",
          "height": 237
        },
        "outputId": "4a74db09-b8aa-465d-bdfd-084aa39b10dc"
      },
      "source": [
        "# A quantidade de procedimentos realizados no Hospital de Base\n",
        "df_hospbase['Procedimento'].value_counts()"
      ],
      "execution_count": 20,
      "outputs": [
        {
          "output_type": "execute_result",
          "data": {
            "text/plain": [
              "TRATAMENTO C/ CIRURGIAS MULTIPLAS                                            47\n",
              "TRAQUEOSTOMIA                                                                28\n",
              "DERIVACAO VENTRICULAR PARA PERITONEO / ATRIO / PLEURA / RAQUE                26\n",
              "TORACOSTOMIA COM DRENAGEM PLEURAL FECHADA                                    23\n",
              "IMPLANTE DE MARCAPASSO DE CAMARA DUPLA TRANSVENOSO                           21\n",
              "                                                                             ..\n",
              "TIMPANOPLASTIA (UNI / BILATERAL)                                              1\n",
              "RETIRADA DE DERIVACAO VENTRICULAR PARA PERITONEO / ATRIO / PLEURA / RAQUE     1\n",
              "MICROCIRURGIA VASCULAR INTRACRANIANA (COM TÉCNICA COMPLEMENTAR)               1\n",
              "TRAQUEOPLASTIA POR ACESSO TORÁCICO                                            1\n",
              "EPIFISIODESE FEMORAL PROXIMAL IN SITU                                         1\n",
              "Name: Procedimento, Length: 242, dtype: int64"
            ]
          },
          "metadata": {
            "tags": []
          },
          "execution_count": 20
        }
      ]
    },
    {
      "cell_type": "code",
      "metadata": {
        "id": "FJA6IG-A8kcG",
        "colab_type": "code",
        "colab": {
          "base_uri": "https://localhost:8080/",
          "height": 146
        },
        "outputId": "eb95c9dc-42a6-4e26-e8f3-5755911de8be"
      },
      "source": [
        "# Conta os casos onde a coluna 'Procedimento' contem a palavra 'AMPUTA'\n",
        "df_hospbase[df_hospbase['Procedimento'].str.contains('AMPUTA')].count()"
      ],
      "execution_count": 21,
      "outputs": [
        {
          "output_type": "execute_result",
          "data": {
            "text/plain": [
              "Hospital                  33\n",
              "Municipio                 33\n",
              "Complexidade              33\n",
              "Carater atendimento       33\n",
              "Sub grupo procedimento    33\n",
              "Procedimento              33\n",
              "dtype: int64"
            ]
          },
          "metadata": {
            "tags": []
          },
          "execution_count": 21
        }
      ]
    },
    {
      "cell_type": "code",
      "metadata": {
        "id": "081xp5oL8kcV",
        "colab_type": "code",
        "colab": {
          "base_uri": "https://localhost:8080/",
          "height": 206
        },
        "outputId": "8cdaec7b-30ab-43fd-9bf2-eceb87ca221d"
      },
      "source": [
        "# Dividir o DataFrame original apenas pelo procedimento de \n",
        "# parto cesariano\n",
        "df_parto_cesariano = df[df['Procedimento'] == 'PARTO CESARIANO']\n",
        "\n",
        "# Mostra as primeiras linhas\n",
        "df_parto_cesariano.head()"
      ],
      "execution_count": 22,
      "outputs": [
        {
          "output_type": "execute_result",
          "data": {
            "text/html": [
              "<div>\n",
              "<style scoped>\n",
              "    .dataframe tbody tr th:only-of-type {\n",
              "        vertical-align: middle;\n",
              "    }\n",
              "\n",
              "    .dataframe tbody tr th {\n",
              "        vertical-align: top;\n",
              "    }\n",
              "\n",
              "    .dataframe thead th {\n",
              "        text-align: right;\n",
              "    }\n",
              "</style>\n",
              "<table border=\"1\" class=\"dataframe\">\n",
              "  <thead>\n",
              "    <tr style=\"text-align: right;\">\n",
              "      <th></th>\n",
              "      <th>Hospital</th>\n",
              "      <th>Municipio</th>\n",
              "      <th>Complexidade</th>\n",
              "      <th>Carater atendimento</th>\n",
              "      <th>Sub grupo procedimento</th>\n",
              "      <th>Procedimento</th>\n",
              "    </tr>\n",
              "  </thead>\n",
              "  <tbody>\n",
              "    <tr>\n",
              "      <th>130</th>\n",
              "      <td>0010545 HRBZ</td>\n",
              "      <td>BRAZLANDIA, DF, BR</td>\n",
              "      <td>Média complexidade</td>\n",
              "      <td>Urgência</td>\n",
              "      <td>Sub Grupo: 11 - Cirurgia obstétrica</td>\n",
              "      <td>PARTO CESARIANO</td>\n",
              "    </tr>\n",
              "    <tr>\n",
              "      <th>131</th>\n",
              "      <td>0010545 HRBZ</td>\n",
              "      <td>BRAZLANDIA, DF, BR</td>\n",
              "      <td>Média complexidade</td>\n",
              "      <td>Urgência</td>\n",
              "      <td>Sub Grupo: 11 - Cirurgia obstétrica</td>\n",
              "      <td>PARTO CESARIANO</td>\n",
              "    </tr>\n",
              "    <tr>\n",
              "      <th>132</th>\n",
              "      <td>0010545 HRBZ</td>\n",
              "      <td>BRAZLANDIA, DF, BR</td>\n",
              "      <td>Média complexidade</td>\n",
              "      <td>Urgência</td>\n",
              "      <td>Sub Grupo: 11 - Cirurgia obstétrica</td>\n",
              "      <td>PARTO CESARIANO</td>\n",
              "    </tr>\n",
              "    <tr>\n",
              "      <th>133</th>\n",
              "      <td>0010545 HRBZ</td>\n",
              "      <td>BRAZLANDIA, DF, BR</td>\n",
              "      <td>Média complexidade</td>\n",
              "      <td>Urgência</td>\n",
              "      <td>Sub Grupo: 11 - Cirurgia obstétrica</td>\n",
              "      <td>PARTO CESARIANO</td>\n",
              "    </tr>\n",
              "    <tr>\n",
              "      <th>141</th>\n",
              "      <td>0010545 HRBZ</td>\n",
              "      <td>BRAZLANDIA, DF, BR</td>\n",
              "      <td>Média complexidade</td>\n",
              "      <td>Urgência</td>\n",
              "      <td>Sub Grupo: 11 - Cirurgia obstétrica</td>\n",
              "      <td>PARTO CESARIANO</td>\n",
              "    </tr>\n",
              "  </tbody>\n",
              "</table>\n",
              "</div>"
            ],
            "text/plain": [
              "         Hospital  ...     Procedimento\n",
              "130  0010545 HRBZ  ...  PARTO CESARIANO\n",
              "131  0010545 HRBZ  ...  PARTO CESARIANO\n",
              "132  0010545 HRBZ  ...  PARTO CESARIANO\n",
              "133  0010545 HRBZ  ...  PARTO CESARIANO\n",
              "141  0010545 HRBZ  ...  PARTO CESARIANO\n",
              "\n",
              "[5 rows x 6 columns]"
            ]
          },
          "metadata": {
            "tags": []
          },
          "execution_count": 22
        }
      ]
    },
    {
      "cell_type": "code",
      "metadata": {
        "id": "NhJ0q8Wv8kcf",
        "colab_type": "code",
        "colab": {
          "base_uri": "https://localhost:8080/",
          "height": 256
        },
        "outputId": "e88d5b0a-1ed1-4925-ee2c-31ceefd82367"
      },
      "source": [
        "# Verificar a quantidade de partos cesariano por hospital\n",
        "df_parto_cesariano['Hospital'].value_counts()"
      ],
      "execution_count": 23,
      "outputs": [
        {
          "output_type": "execute_result",
          "data": {
            "text/plain": [
              "0010480 HOSPITAL REGIONAL DE CEILANDIA                165\n",
              "2645157 HRPA                                          123\n",
              "5717515 HRSM                                          110\n",
              "0010537 HOSPITAL MATERNO INFANTIL DE BRASILIA HMIB     93\n",
              "2672197 HRSAM HOSPITAL REGIONAL DE SAMAMBAIA           92\n",
              "0010502 HRS                                            92\n",
              "0010464 HRAN                                           88\n",
              "0010529 HRPL                                           79\n",
              "0010499 HRT HOSPITAL REGIONAL DE TAGUATINGA            74\n",
              "0010510 HOSPITAL UNIVERSITARIO DE BRASILIA             63\n",
              "0010472 HRG                                            47\n",
              "0010545 HRBZ                                           34\n",
              "Name: Hospital, dtype: int64"
            ]
          },
          "metadata": {
            "tags": []
          },
          "execution_count": 23
        }
      ]
    },
    {
      "cell_type": "code",
      "metadata": {
        "id": "LJ03jYgn8kc4",
        "colab_type": "code",
        "colab": {
          "base_uri": "https://localhost:8080/",
          "height": 72
        },
        "outputId": "b81ab4d1-940a-41a0-b19f-a81277c78fca"
      },
      "source": [
        "# Verificar a quantidade de partos por carater atendimento\n",
        "df_parto_cesariano['Carater atendimento'].value_counts()"
      ],
      "execution_count": 24,
      "outputs": [
        {
          "output_type": "execute_result",
          "data": {
            "text/plain": [
              "Urgência    1041\n",
              "Eletivo       19\n",
              "Name: Carater atendimento, dtype: int64"
            ]
          },
          "metadata": {
            "tags": []
          },
          "execution_count": 24
        }
      ]
    },
    {
      "cell_type": "code",
      "metadata": {
        "id": "98DuzcTM8kdE",
        "colab_type": "code",
        "colab": {
          "base_uri": "https://localhost:8080/",
          "height": 283
        },
        "outputId": "36abc531-38a4-460e-f2e2-b391a9951cb2"
      },
      "source": [
        "# Plotar um gráfico de barras horizontal\n",
        "df_parto_cesariano['Hospital'].value_counts().plot.barh(color=colors)"
      ],
      "execution_count": 27,
      "outputs": [
        {
          "output_type": "execute_result",
          "data": {
            "text/plain": [
              "<matplotlib.axes._subplots.AxesSubplot at 0x7f9ec4fbf748>"
            ]
          },
          "metadata": {
            "tags": []
          },
          "execution_count": 27
        },
        {
          "output_type": "display_data",
          "data": {
            "image/png": "[encoded data removed]",
            "text/plain": [
              "<Figure size 432x288 with 1 Axes>"
            ]
          },
          "metadata": {
            "tags": [],
            "needs_background": "light"
          }
        }
      ]
    },
    {
      "cell_type": "code",
      "metadata": {
        "id": "Zf4WgWAy8kdZ",
        "colab_type": "code",
        "colab": {
          "base_uri": "https://localhost:8080/",
          "height": 299
        },
        "outputId": "0fef0faa-1345-4739-bfd4-6eb06d8623c6"
      },
      "source": [
        "# Melhorar o gráfico de barras horizontal\n",
        "# Inverter a ordem e colocar titulo\n",
        "df_parto_cesariano['Hospital'].value_counts(ascending=True).plot.barh(title='Quantidade de partos cesarianos por hospital',color=colors)"
      ],
      "execution_count": 26,
      "outputs": [
        {
          "output_type": "execute_result",
          "data": {
            "text/plain": [
              "<matplotlib.axes._subplots.AxesSubplot at 0x7f9ec501d160>"
            ]
          },
          "metadata": {
            "tags": []
          },
          "execution_count": 26
        },
        {
          "output_type": "display_data",
          "data": {
            "image/png": "[encoded data removed]",
            "text/plain": [
              "<Figure size 432x288 with 1 Axes>"
            ]
          },
          "metadata": {
            "tags": [],
            "needs_background": "light"
          }
        }
      ]
    }
  ]
}