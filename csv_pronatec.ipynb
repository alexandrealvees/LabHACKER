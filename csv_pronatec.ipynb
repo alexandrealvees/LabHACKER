{
  "nbformat": 4,
  "nbformat_minor": 0,
  "metadata": {
    "kernelspec": {
      "display_name": "Python 3",
      "language": "python",
      "name": "python3"
    },
    "language_info": {
      "codemirror_mode": {
        "name": "ipython",
        "version": 3
      },
      "file_extension": ".py",
      "mimetype": "text/x-python",
      "name": "python",
      "nbconvert_exporter": "python",
      "pygments_lexer": "ipython3",
      "version": "3.7.1"
    },
    "colab": {
      "name": "csv_pronatec.ipynb",
      "provenance": [],
      "collapsed_sections": [],
      "include_colab_link": true
    }
  },
  "cells": [
    {
      "cell_type": "markdown",
      "metadata": {
        "id": "view-in-github",
        "colab_type": "text"
      },
      "source": [
        "<a href=\"https://colab.research.google.com/github/alexandrealvees/LabHACKER/blob/master/csv_pronatec.ipynb\" target=\"_parent\"><img src=\"https://colab.research.google.com/assets/colab-badge.svg\" alt=\"Open In Colab\"/></a>"
      ]
    },
    {
      "cell_type": "code",
      "metadata": {
        "id": "8jCuiAuXVRo1",
        "colab_type": "code",
        "outputId": "d9c20a9e-804d-4ea0-a83e-e59670fdcbeb",
        "colab": {
          "base_uri": "https://localhost:8080/",
          "height": 55
        }
      },
      "source": [
        "from google.colab import drive\n",
        "drive.mount('/content/drive')"
      ],
      "execution_count": 0,
      "outputs": [
        {
          "output_type": "stream",
          "text": [
            "Drive already mounted at /content/drive; to attempt to forcibly remount, call drive.mount(\"/content/drive\", force_remount=True).\n"
          ],
          "name": "stdout"
        }
      ]
    },
    {
      "cell_type": "code",
      "metadata": {
        "id": "i4MbXi_wUNR4",
        "colab_type": "code",
        "colab": {}
      },
      "source": [
        "# Importando bibliotecas\n",
        "# Por convenção vamos chamar o pandas de pd\n",
        "import pandas as pd"
      ],
      "execution_count": 0,
      "outputs": []
    },
    {
      "cell_type": "code",
      "metadata": {
        "id": "VR5dXYfIUNSN",
        "colab_type": "code",
        "outputId": "b8bd610b-3ca9-4267-b96d-f2b0664d4b24",
        "colab": {
          "base_uri": "https://localhost:8080/",
          "height": 591
        }
      },
      "source": [
        "# Carregar o arquivo CSV\n",
        "# Pandas vai converter o arquivo em um DataFrame\n",
        "# Por convenção, chamamos o DataFrame de df\n",
        "# O arquivo é separado por ';', por isso informamos o parâmetro 'sep'\n",
        "# O arquivo é codificado como cp1252\n",
        "df = pd.read_csv('/content/drive/My Drive/ArquivosPython/PDA_UNIDADES_RF_EPCT_CSV.csv', sep=';', encoding='cp1252')\n",
        "\n",
        "# Mostra as 5 primeiras linhas do DataFrame\n",
        "df.head()"
      ],
      "execution_count": 0,
      "outputs": [
        {
          "output_type": "execute_result",
          "data": {
            "text/html": [
              "<div>\n",
              "<style scoped>\n",
              "    .dataframe tbody tr th:only-of-type {\n",
              "        vertical-align: middle;\n",
              "    }\n",
              "\n",
              "    .dataframe tbody tr th {\n",
              "        vertical-align: top;\n",
              "    }\n",
              "\n",
              "    .dataframe thead th {\n",
              "        text-align: right;\n",
              "    }\n",
              "</style>\n",
              "<table border=\"1\" class=\"dataframe\">\n",
              "  <thead>\n",
              "    <tr style=\"text-align: right;\">\n",
              "      <th></th>\n",
              "      <th>CODIGO_UNIDADE</th>\n",
              "      <th>NOME_UNIDADE</th>\n",
              "      <th>DT_AUTORIZA_FUNCIONA_UNID</th>\n",
              "      <th>NOME_REGIAO_UNIDADE</th>\n",
              "      <th>SIGLA_UF_UNIDADE</th>\n",
              "      <th>NOME_MUNICIPIO_UNIDADE</th>\n",
              "      <th>NOME_MESORREGIAO_UNIDADE</th>\n",
              "      <th>NOME_MICRORREGIAO_UNIDADE</th>\n",
              "    </tr>\n",
              "  </thead>\n",
              "  <tbody>\n",
              "    <tr>\n",
              "      <th>0</th>\n",
              "      <td>2879</td>\n",
              "      <td>INSTITUTO FEDERAL DA BAHIA - CAMPUS EUNÁPOLIS</td>\n",
              "      <td>07-01-2009</td>\n",
              "      <td>Nordeste</td>\n",
              "      <td>BA</td>\n",
              "      <td>Eunápolis</td>\n",
              "      <td>Sul Baiano</td>\n",
              "      <td>Porto Seguro</td>\n",
              "    </tr>\n",
              "    <tr>\n",
              "      <th>1</th>\n",
              "      <td>2948</td>\n",
              "      <td>INSTITUTO FEDERAL BAIANO - CAMPUS ITAPETINGA</td>\n",
              "      <td>07-01-2009</td>\n",
              "      <td>Nordeste</td>\n",
              "      <td>BA</td>\n",
              "      <td>Itapetinga</td>\n",
              "      <td>Centro Sul Baiano</td>\n",
              "      <td>Itapetinga</td>\n",
              "    </tr>\n",
              "    <tr>\n",
              "      <th>2</th>\n",
              "      <td>14328</td>\n",
              "      <td>INSTITUTO FEDERAL DO ACRE - CAMPUS SENA MADUREIRA</td>\n",
              "      <td>30-12-2008</td>\n",
              "      <td>Norte</td>\n",
              "      <td>AC</td>\n",
              "      <td>Sena Madureira</td>\n",
              "      <td>Vale do Acre</td>\n",
              "      <td>Sena Madureira</td>\n",
              "    </tr>\n",
              "    <tr>\n",
              "      <th>3</th>\n",
              "      <td>14547</td>\n",
              "      <td>INSTITUTO FEDERAL DE ALAGOAS - CAMPUS ARAPIRACA</td>\n",
              "      <td>06-07-2010</td>\n",
              "      <td>Nordeste</td>\n",
              "      <td>AL</td>\n",
              "      <td>Arapiraca</td>\n",
              "      <td>Agreste Alagoano</td>\n",
              "      <td>Arapiraca</td>\n",
              "    </tr>\n",
              "    <tr>\n",
              "      <th>4</th>\n",
              "      <td>32010</td>\n",
              "      <td>INSTITUTO FEDERAL DE ALAGOAS - CAMPUS CORURIPE</td>\n",
              "      <td>22-01-2014</td>\n",
              "      <td>Nordeste</td>\n",
              "      <td>AL</td>\n",
              "      <td>Coruripe</td>\n",
              "      <td>Leste Alagoano</td>\n",
              "      <td>São Miguel dos Campos</td>\n",
              "    </tr>\n",
              "  </tbody>\n",
              "</table>\n",
              "</div>"
            ],
            "text/plain": [
              "   CODIGO_UNIDADE  ... NOME_MICRORREGIAO_UNIDADE\n",
              "0            2879  ...              Porto Seguro\n",
              "1            2948  ...                Itapetinga\n",
              "2           14328  ...            Sena Madureira\n",
              "3           14547  ...                 Arapiraca\n",
              "4           32010  ...     São Miguel dos Campos\n",
              "\n",
              "[5 rows x 8 columns]"
            ]
          },
          "metadata": {
            "tags": []
          },
          "execution_count": 5
        }
      ]
    },
    {
      "cell_type": "code",
      "metadata": {
        "id": "u-5GkT-fUNSg",
        "colab_type": "code",
        "outputId": "15bafdfb-4b02-42b9-ce19-f015a2fe1327",
        "colab": {
          "base_uri": "https://localhost:8080/",
          "height": 182
        }
      },
      "source": [
        "# Quantas escolas no arquivo?\n",
        "df.count()"
      ],
      "execution_count": 0,
      "outputs": [
        {
          "output_type": "execute_result",
          "data": {
            "text/plain": [
              "CODIGO_UNIDADE               618\n",
              "NOME_UNIDADE                 618\n",
              "DT_AUTORIZA_FUNCIONA_UNID    618\n",
              "NOME_REGIAO_UNIDADE          618\n",
              "SIGLA_UF_UNIDADE             618\n",
              "NOME_MUNICIPIO_UNIDADE       618\n",
              "NOME_MESORREGIAO_UNIDADE     618\n",
              "NOME_MICRORREGIAO_UNIDADE    618\n",
              "dtype: int64"
            ]
          },
          "metadata": {
            "tags": []
          },
          "execution_count": 6
        }
      ]
    },
    {
      "cell_type": "code",
      "metadata": {
        "id": "EzeXID-bUNSt",
        "colab_type": "code",
        "outputId": "25dd09de-c010-43ed-c6aa-fa4e4dbef744",
        "colab": {
          "base_uri": "https://localhost:8080/",
          "height": 300
        }
      },
      "source": [
        "# Descreve as colunas numéricas\n",
        "df.describe()"
      ],
      "execution_count": 0,
      "outputs": [
        {
          "output_type": "execute_result",
          "data": {
            "text/html": [
              "<div>\n",
              "<style scoped>\n",
              "    .dataframe tbody tr th:only-of-type {\n",
              "        vertical-align: middle;\n",
              "    }\n",
              "\n",
              "    .dataframe tbody tr th {\n",
              "        vertical-align: top;\n",
              "    }\n",
              "\n",
              "    .dataframe thead th {\n",
              "        text-align: right;\n",
              "    }\n",
              "</style>\n",
              "<table border=\"1\" class=\"dataframe\">\n",
              "  <thead>\n",
              "    <tr style=\"text-align: right;\">\n",
              "      <th></th>\n",
              "      <th>CODIGO_UNIDADE</th>\n",
              "    </tr>\n",
              "  </thead>\n",
              "  <tbody>\n",
              "    <tr>\n",
              "      <th>count</th>\n",
              "      <td>618.000000</td>\n",
              "    </tr>\n",
              "    <tr>\n",
              "      <th>mean</th>\n",
              "      <td>16255.610032</td>\n",
              "    </tr>\n",
              "    <tr>\n",
              "      <th>std</th>\n",
              "      <td>12973.588737</td>\n",
              "    </tr>\n",
              "    <tr>\n",
              "      <th>min</th>\n",
              "      <td>354.000000</td>\n",
              "    </tr>\n",
              "    <tr>\n",
              "      <th>25%</th>\n",
              "      <td>2998.500000</td>\n",
              "    </tr>\n",
              "    <tr>\n",
              "      <th>50%</th>\n",
              "      <td>13840.500000</td>\n",
              "    </tr>\n",
              "    <tr>\n",
              "      <th>75%</th>\n",
              "      <td>30818.250000</td>\n",
              "    </tr>\n",
              "    <tr>\n",
              "      <th>max</th>\n",
              "      <td>44307.000000</td>\n",
              "    </tr>\n",
              "  </tbody>\n",
              "</table>\n",
              "</div>"
            ],
            "text/plain": [
              "       CODIGO_UNIDADE\n",
              "count      618.000000\n",
              "mean     16255.610032\n",
              "std      12973.588737\n",
              "min        354.000000\n",
              "25%       2998.500000\n",
              "50%      13840.500000\n",
              "75%      30818.250000\n",
              "max      44307.000000"
            ]
          },
          "metadata": {
            "tags": []
          },
          "execution_count": 7
        }
      ]
    },
    {
      "cell_type": "code",
      "metadata": {
        "id": "F9gtdvHPUNS4",
        "colab_type": "code",
        "outputId": "e2a88411-8852-4ace-8440-982a2a03186d",
        "colab": {
          "base_uri": "https://localhost:8080/",
          "height": 182
        }
      },
      "source": [
        "# Mostra o tipo de cada coluna do DataFrame\n",
        "df.dtypes"
      ],
      "execution_count": 0,
      "outputs": [
        {
          "output_type": "execute_result",
          "data": {
            "text/plain": [
              "CODIGO_UNIDADE                int64\n",
              "NOME_UNIDADE                 object\n",
              "DT_AUTORIZA_FUNCIONA_UNID    object\n",
              "NOME_REGIAO_UNIDADE          object\n",
              "SIGLA_UF_UNIDADE             object\n",
              "NOME_MUNICIPIO_UNIDADE       object\n",
              "NOME_MESORREGIAO_UNIDADE     object\n",
              "NOME_MICRORREGIAO_UNIDADE    object\n",
              "dtype: object"
            ]
          },
          "metadata": {
            "tags": []
          },
          "execution_count": 7
        }
      ]
    },
    {
      "cell_type": "code",
      "metadata": {
        "id": "R7YHHYoaUNTD",
        "colab_type": "code",
        "outputId": "0c961a35-f645-4b64-8e68-605da6839302",
        "colab": {
          "base_uri": "https://localhost:8080/",
          "height": 127
        }
      },
      "source": [
        "# Quantas escolas existem em cada região do Brasil\n",
        "df['NOME_REGIAO_UNIDADE'].value_counts()"
      ],
      "execution_count": 0,
      "outputs": [
        {
          "output_type": "execute_result",
          "data": {
            "text/plain": [
              "Nordeste        202\n",
              "Sudeste         163\n",
              "Sul             116\n",
              "Norte            70\n",
              "Centro-Oeste     67\n",
              "Name: NOME_REGIAO_UNIDADE, dtype: int64"
            ]
          },
          "metadata": {
            "tags": []
          },
          "execution_count": 8
        }
      ]
    },
    {
      "cell_type": "code",
      "metadata": {
        "id": "3CVTk2mFUNTO",
        "colab_type": "code",
        "outputId": "c20ee746-5c8d-4a20-ca3e-478170dda68b",
        "colab": {
          "base_uri": "https://localhost:8080/",
          "height": 531
        }
      },
      "source": [
        "# Vamos contar agora por Unidade da Federação (Estado)\n",
        "df['SIGLA_UF_UNIDADE'].value_counts()"
      ],
      "execution_count": 0,
      "outputs": [
        {
          "output_type": "execute_result",
          "data": {
            "text/plain": [
              "MG    67\n",
              "RS    45\n",
              "RJ    39\n",
              "SC    36\n",
              "SP    35\n",
              "PR    35\n",
              "BA    34\n",
              "CE    27\n",
              "MA    27\n",
              "GO    26\n",
              "PE    23\n",
              "PI    23\n",
              "RN    23\n",
              "ES    22\n",
              "PB    21\n",
              "PA    20\n",
              "MT    19\n",
              "AL    16\n",
              "AM    15\n",
              "DF    11\n",
              "TO    11\n",
              "MS    11\n",
              "RO     8\n",
              "SE     8\n",
              "AC     6\n",
              "RR     6\n",
              "AP     4\n",
              "Name: SIGLA_UF_UNIDADE, dtype: int64"
            ]
          },
          "metadata": {
            "tags": []
          },
          "execution_count": 9
        }
      ]
    },
    {
      "cell_type": "code",
      "metadata": {
        "id": "mHxqcCIuUNTW",
        "colab_type": "code",
        "outputId": "296bef3f-e78e-4ab8-9e4f-0e0beab09b7f",
        "colab": {
          "base_uri": "https://localhost:8080/",
          "height": 340
        }
      },
      "source": [
        "# Mostrando os dados em um gráfico\n",
        "\n",
        "# Nós precisamos informar que queremos visualizar o gráfico dentro\n",
        "# do próprio jupyter notebook\n",
        "%matplotlib inline\n",
        "\n",
        "# Agora vamos pegar as escolas por UF e mostrar em um gráfico\n",
        "# de barras\n",
        "df['NOME_REGIAO_UNIDADE'].value_counts().plot.bar()"
      ],
      "execution_count": 0,
      "outputs": [
        {
          "output_type": "execute_result",
          "data": {
            "text/plain": [
              "<matplotlib.axes._subplots.AxesSubplot at 0x7f7271a84ef0>"
            ]
          },
          "metadata": {
            "tags": []
          },
          "execution_count": 10
        },
        {
          "output_type": "display_data",
          "data": {
            "image/png": "[encoded data removed]",
            "text/plain": [
              "<Figure size 432x288 with 1 Axes>"
            ]
          },
          "metadata": {
            "tags": [],
            "needs_background": "light"
          }
        }
      ]
    },
    {
      "cell_type": "code",
      "metadata": {
        "id": "aAxBkIHeYwnq",
        "colab_type": "code",
        "outputId": "738927ca-c358-4a4f-875a-3d820dfbb092",
        "colab": {
          "base_uri": "https://localhost:8080/",
          "height": 293
        }
      },
      "source": [
        "# Mostrando os dados em um gráfico\n",
        "\n",
        "# Nós precisamos informar que queremos visualizar o gráfico dentro\n",
        "# do próprio jupyter notebook\n",
        "%matplotlib inline\n",
        "\n",
        "# Agora vamos pegar as escolas por UF e mostrar em um gráfico\n",
        "# de barras\n",
        "df['SIGLA_UF_UNIDADE'].value_counts().plot(kind='bar')"
      ],
      "execution_count": 0,
      "outputs": [
        {
          "output_type": "execute_result",
          "data": {
            "text/plain": [
              "<matplotlib.axes._subplots.AxesSubplot at 0x7f726f2622b0>"
            ]
          },
          "metadata": {
            "tags": []
          },
          "execution_count": 31
        },
        {
          "output_type": "display_data",
          "data": {
            "image/png": "[encoded data removed]",
            "text/plain": [
              "<Figure size 432x288 with 1 Axes>"
            ]
          },
          "metadata": {
            "tags": [],
            "needs_background": "light"
          }
        }
      ]
    }
  ]
}